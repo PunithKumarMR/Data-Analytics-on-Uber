{
 "cells": [
  {
   "cell_type": "code",
   "execution_count": 1,
   "metadata": {
    "collapsed": true
   },
   "outputs": [],
   "source": [
    "# Plottin the uber pick up points from Apr 2014 to Sept 2014\n",
    "# author: Punith Kumar M R\n",
    "# The required CSV files have to be in the same directory of the python file\n",
    "\n",
    "import pandas as pd\n",
    "import numpy as np\n",
    "import matplotlib.pyplot as plt"
   ]
  },
  {
   "cell_type": "code",
   "execution_count": 2,
   "metadata": {},
   "outputs": [
    {
     "name": "stdout",
     "output_type": "stream",
     "text": [
      "    num of trips       Date\n",
      "0           5998 2014-07-01\n",
      "14          1265 2014-07-02\n",
      "20          1014 2014-07-03\n",
      "28           547 2014-07-04\n",
      "30           397 2014-07-05\n",
      "29           430 2014-07-06\n",
      "25           874 2014-07-07\n",
      "17          1221 2014-07-08\n",
      "6           1366 2014-07-09\n",
      "4           1401 2014-07-10\n",
      "16          1232 2014-07-11\n",
      "22           955 2014-07-12\n",
      "24           915 2014-07-13\n",
      "5           1375 2014-07-14\n",
      "1           1654 2014-07-15\n",
      "11          1311 2014-07-16\n",
      "12          1284 2014-07-17\n",
      "18          1220 2014-07-18\n",
      "23           946 2014-07-19\n",
      "26           850 2014-07-20\n",
      "21          1002 2014-07-21\n",
      "7           1345 2014-07-22\n",
      "2           1584 2014-07-23\n",
      "10          1313 2014-07-24\n",
      "13          1265 2014-07-25\n",
      "19          1121 2014-07-26\n",
      "27           749 2014-07-27\n",
      "15          1240 2014-07-28\n",
      "8           1340 2014-07-29\n",
      "9           1334 2014-07-30\n",
      "..           ...        ...\n",
      "0           5264 2014-09-01\n",
      "1           2191 2014-09-02\n",
      "11          1284 2014-09-03\n",
      "4           1513 2014-09-04\n",
      "2           1808 2014-09-05\n",
      "3           1580 2014-09-06\n",
      "16          1124 2014-09-07\n",
      "14          1211 2014-09-08\n",
      "12          1254 2014-09-09\n",
      "7           1374 2014-09-10\n",
      "8           1365 2014-09-11\n",
      "6           1423 2014-09-12\n",
      "5           1426 2014-09-13\n",
      "27           846 2014-09-14\n",
      "18          1083 2014-09-15\n",
      "10          1339 2014-09-16\n",
      "15          1158 2014-09-17\n",
      "13          1247 2014-09-18\n",
      "9           1348 2014-09-19\n",
      "17          1104 2014-09-20\n",
      "28           834 2014-09-21\n",
      "23           917 2014-09-22\n",
      "25           866 2014-09-23\n",
      "26           860 2014-09-24\n",
      "19          1015 2014-09-25\n",
      "22           953 2014-09-26\n",
      "20          1005 2014-09-27\n",
      "29           734 2014-09-28\n",
      "24           905 2014-09-29\n",
      "21           968 2014-09-30\n",
      "\n",
      "[92 rows x 2 columns]\n"
     ]
    },
    {
     "data": {
      "text/plain": [
       "[<matplotlib.lines.Line2D at 0x10f23ee80>]"
      ]
     },
     "execution_count": 2,
     "metadata": {},
     "output_type": "execute_result"
    }
   ],
   "source": [
    "#uber jul to sep\n",
    "df = pd.read_csv(\"uber-data-jul14.csv\", parse_dates=['Date/Time'])\n",
    "df['Date/Time'] = df['Date/Time'].apply(lambda x: x.strftime('%m-%d-%y'))\n",
    "counts = df['Date/Time'].value_counts()\n",
    "df = pd.DataFrame(counts)\n",
    "df.columns = ['num of trips']\n",
    "df['Date'] = pd.to_datetime(df.index)\n",
    "df = df.reset_index(drop=True)\n",
    "df = df.sort_values('Date')\n",
    "df1=df\n",
    "df = pd.read_csv(\"uber-data-aug14.csv\", parse_dates=['Date/Time'])\n",
    "df['Date/Time'] = df['Date/Time'].apply(lambda x: x.strftime('%m-%d-%y'))\n",
    "counts = df['Date/Time'].value_counts()\n",
    "df = pd.DataFrame(counts)\n",
    "df.columns = ['num of trips']\n",
    "df['Date'] = pd.to_datetime(df.index)\n",
    "df = df.reset_index(drop=True)\n",
    "df = df.sort_values('Date')\n",
    "df2=df\n",
    "df = pd.read_csv(\"uber-data-sep14.csv\", parse_dates=['Date/Time'])\n",
    "df['Date/Time'] = df['Date/Time'].apply(lambda x: x.strftime('%m-%d-%y'))\n",
    "counts = df['Date/Time'].value_counts()\n",
    "df = pd.DataFrame(counts)\n",
    "df.columns = ['num of trips']\n",
    "df['Date'] = pd.to_datetime(df.index)\n",
    "df = df.reset_index(drop=True)\n",
    "df = df.sort_values('Date')\n",
    "df3=df\n",
    "df = [df1, df2, df3]\n",
    "result = pd.concat(df)\n",
    "print(result)\n",
    "plt.plot_date(result['Date'], result['num of trips'], fmt='b-', color=\"blue\", label='Uber')"
   ]
  },
  {
   "cell_type": "code",
   "execution_count": 3,
   "metadata": {},
   "outputs": [
    {
     "data": {
      "text/plain": [
       "[<matplotlib.lines.Line2D at 0x11062e748>]"
      ]
     },
     "execution_count": 3,
     "metadata": {},
     "output_type": "execute_result"
    }
   ],
   "source": [
    "#aMERICAN CAB\n",
    "df = pd.read_csv(\"American_B01362.csv\", parse_dates=['DATE'])\n",
    "df['DATE'] = df['DATE'].apply(lambda x: x.strftime('%m-%d-%y'))\n",
    "counts = df['DATE'].value_counts()\n",
    "df = pd.DataFrame(counts)\n",
    "df.columns = ['num of trips']\n",
    "df['Date'] = pd.to_datetime(df.index)\n",
    "df = df.reset_index(drop=True)\n",
    "df = df.sort_values('Date')\n",
    "plt.plot_date(df['Date'], df['num of trips'],color=\"green\", fmt='b-', label='American')"
   ]
  },
  {
   "cell_type": "code",
   "execution_count": 4,
   "metadata": {},
   "outputs": [
    {
     "data": {
      "text/plain": [
       "[<matplotlib.lines.Line2D at 0x10e3c29e8>]"
      ]
     },
     "execution_count": 4,
     "metadata": {},
     "output_type": "execute_result"
    }
   ],
   "source": [
    "#Carmel CAB\n",
    "df = pd.read_csv(\"Carmel_B00256.csv\", encoding='latin-1')\n",
    "df['Date'] = pd.to_datetime(df[\"Date\"])\n",
    "df['Date'] = df['Date'].apply(lambda x: x.strftime('%m-%d-%y'))\n",
    "counts = df['Date'].value_counts()\n",
    "df = pd.DataFrame(counts)\n",
    "df.columns = ['num of trips']\n",
    "df['Date'] = pd.to_datetime(df.index)\n",
    "df = df.reset_index(drop=True)\n",
    "df = df.sort_values('Date')\n",
    "plt.plot_date(df['Date'], df['num of trips'],color=\"red\", fmt='b-', label='Carmel')"
   ]
  },
  {
   "cell_type": "code",
   "execution_count": 5,
   "metadata": {},
   "outputs": [
    {
     "data": {
      "text/plain": [
       "[<matplotlib.lines.Line2D at 0x10f23e7b8>]"
      ]
     },
     "execution_count": 5,
     "metadata": {},
     "output_type": "execute_result"
    }
   ],
   "source": [
    "#Dial7 CAB\n",
    "df = pd.read_csv(\"Dial7_B00887.csv\", parse_dates=['Date'])\n",
    "df['Date'] = df['Date'].apply(lambda x: x.strftime('%m-%d-%y'))\n",
    "counts = df['Date'].value_counts()\n",
    "df = pd.DataFrame(counts)\n",
    "df.columns = ['num of trips']\n",
    "df['Date'] = pd.to_datetime(df.index)\n",
    "df = df.reset_index(drop=True)\n",
    "df = df.sort_values('Date')\n",
    "plt.plot_date(df['Date'], df['num of trips'], fmt='b-', color=\"cyan\", label='Dial7')"
   ]
  },
  {
   "cell_type": "code",
   "execution_count": 6,
   "metadata": {},
   "outputs": [
    {
     "data": {
      "text/plain": [
       "[<matplotlib.lines.Line2D at 0x1105b2f60>]"
      ]
     },
     "execution_count": 6,
     "metadata": {},
     "output_type": "execute_result"
    }
   ],
   "source": [
    "#Diplo CAB\n",
    "df = pd.read_csv(\"Diplo_B01196.csv\", encoding='latin-1')\n",
    "df['Date'] = pd.to_datetime(df[\"Date\"])\n",
    "df['Date'] = df['Date'].apply(lambda x: x.strftime('%m-%d-%y'))\n",
    "counts = df['Date'].value_counts()\n",
    "df = pd.DataFrame(counts)\n",
    "df.columns = ['num of trips']\n",
    "df['Date'] = pd.to_datetime(df.index)\n",
    "df = df.reset_index(drop=True)\n",
    "df = df.sort_values('Date')\n",
    "plt.plot_date(df['Date'], df['num of trips'],color=\"magenta\", fmt='b-', label='Diplo')"
   ]
  },
  {
   "cell_type": "code",
   "execution_count": 7,
   "metadata": {},
   "outputs": [
    {
     "data": {
      "text/plain": [
       "[<matplotlib.lines.Line2D at 0x10acb1518>]"
      ]
     },
     "execution_count": 7,
     "metadata": {},
     "output_type": "execute_result"
    }
   ],
   "source": [
    "#federal\n",
    "df = pd.read_csv(\"Federal_02216.csv\", parse_dates=['Date'])\n",
    "df['Date'] = df['Date'].apply(lambda x: x.strftime('%m-%d-%y'))\n",
    "counts = df['Date'].value_counts()\n",
    "df = pd.DataFrame(counts)\n",
    "df.columns = ['num of trips']\n",
    "df['Date'] = pd.to_datetime(df.index)\n",
    "df = df.reset_index(drop=True)\n",
    "df = df.sort_values('Date')\n",
    "plt.plot_date(df['Date'], df['num of trips'], fmt='b-', color=\"yellow\", label='Federal')"
   ]
  },
  {
   "cell_type": "code",
   "execution_count": 8,
   "metadata": {},
   "outputs": [
    {
     "data": {
      "text/plain": [
       "[<matplotlib.lines.Line2D at 0x1105b2da0>]"
      ]
     },
     "execution_count": 8,
     "metadata": {},
     "output_type": "execute_result"
    }
   ],
   "source": [
    "#Firstclass CAB\n",
    "df = pd.read_csv(\"Firstclass_B01536.csv\",encoding='latin-1' , parse_dates=['DATE'])\n",
    "df['DATE'] = df['DATE'].apply(lambda x: x.strftime('%m-%d-%y'))\n",
    "counts = df['DATE'].value_counts()\n",
    "df = pd.DataFrame(counts)\n",
    "df.columns = ['num of trips']\n",
    "df['Date'] = pd.to_datetime(df.index)\n",
    "df = df.reset_index(drop=True)\n",
    "df = df.sort_values('Date')\n",
    "plt.plot_date(df['Date'], df['num of trips'],color=\"black\", fmt='b-', label='Firstclass')"
   ]
  },
  {
   "cell_type": "code",
   "execution_count": 9,
   "metadata": {},
   "outputs": [
    {
     "data": {
      "text/plain": [
       "[<matplotlib.lines.Line2D at 0x10fcc9a90>]"
      ]
     },
     "execution_count": 9,
     "metadata": {},
     "output_type": "execute_result"
    }
   ],
   "source": [
    "#Highclass CAB\n",
    "df = pd.read_csv(\"Highclass_B01717.csv\", encoding='latin-1', parse_dates=['DATE'])\n",
    "df['DATE'] = df['DATE'].apply(lambda x: x.strftime('%m-%d-%y'))\n",
    "counts = df['DATE'].value_counts()\n",
    "df = pd.DataFrame(counts)\n",
    "df.columns = ['num of trips']\n",
    "df['Date'] = pd.to_datetime(df.index)\n",
    "df = df.reset_index(drop=True)\n",
    "df = df.sort_values('Date')\n",
    "plt.plot_date(df['Date'], df['num of trips'],color='magenta', fmt='b-', label='Highclass')"
   ]
  },
  {
   "cell_type": "code",
   "execution_count": 10,
   "metadata": {},
   "outputs": [
    {
     "data": {
      "text/plain": [
       "[<matplotlib.lines.Line2D at 0x11062e278>]"
      ]
     },
     "execution_count": 10,
     "metadata": {},
     "output_type": "execute_result"
    }
   ],
   "source": [
    "#LYFT CAB\n",
    "df = pd.read_csv(\"Lyft_B02510.csv\", parse_dates=['time_of_trip'])\n",
    "df['time_of_trip'] = df['time_of_trip'].apply(lambda x: x.strftime('%m-%d-%y'))\n",
    "counts = df['time_of_trip'].value_counts()\n",
    "df = pd.DataFrame(counts)\n",
    "df.columns = ['num of trips']\n",
    "df['Date'] = pd.to_datetime(df.index)\n",
    "df = df.reset_index(drop=True)\n",
    "df = df.sort_values('Date')\n",
    "plt.plot_date(df['Date'], df['num of trips'],color='olive', fmt='b-', label='LYFT')"
   ]
  },
  {
   "cell_type": "code",
   "execution_count": 11,
   "metadata": {},
   "outputs": [
    {
     "data": {
      "text/plain": [
       "[<matplotlib.lines.Line2D at 0x1106320f0>]"
      ]
     },
     "execution_count": 11,
     "metadata": {},
     "output_type": "execute_result"
    }
   ],
   "source": [
    "#skyline\n",
    "df = pd.read_csv(\"Skyline_B00111.csv\", parse_dates=['Date'])\n",
    "df['Date'] = df['Date'].apply(lambda x: x.strftime('%m-%d-%y'))\n",
    "counts = df['Date'].value_counts()\n",
    "df = pd.DataFrame(counts)\n",
    "df.columns = ['num of trips']\n",
    "df['Date'] = pd.to_datetime(df.index)\n",
    "df = df.reset_index(drop=True)\n",
    "df = df.sort_values('Date')\n",
    "plt.plot_date(df['Date'], df['num of trips'], fmt='b-', color='tan', label='Skyline')"
   ]
  },
  {
   "cell_type": "code",
   "execution_count": 12,
   "metadata": {},
   "outputs": [
    {
     "data": {
      "image/png": "[encoded data removed]",
      "text/plain": [
       "<matplotlib.figure.Figure at 0x11062e400>"
      ]
     },
     "metadata": {},
     "output_type": "display_data"
    },
    {
     "data": {
      "image/png": "[encoded data removed]",
      "text/plain": [
       "<matplotlib.figure.Figure at 0x10f1f4e80>"
      ]
     },
     "metadata": {},
     "output_type": "display_data"
    }
   ],
   "source": [
    "plt.figure(figsize=(20,10))\n",
    "plt.xlabel('TimeSpan')\n",
    "plt.ylabel('number of trips')\n",
    "plt.title('Uber trips avs other cab service trips')\n",
    "plt.legend()\n",
    "plt.show()"
   ]
  },
  {
   "cell_type": "markdown",
   "metadata": {
    "collapsed": true
   },
   "source": [
    "The graph above shows details of Uber cab service in comparison to other cab services. From this graph we can see that uber trips were around 25000 for a period of six months while other cab services where only about 5000. Thus we can\n",
    "say that Uber has largely conquered the market and its way ahead than its competitors."
   ]
  }
 ],
 "metadata": {
  "kernelspec": {
   "display_name": "Python 3",
   "language": "python",
   "name": "python3"
  },
  "language_info": {
   "codemirror_mode": {
    "name": "ipython",
    "version": 3
   },
   "file_extension": ".py",
   "mimetype": "text/x-python",
   "name": "python",
   "nbconvert_exporter": "python",
   "pygments_lexer": "ipython3",
   "version": "3.6.3"
  }
 },
 "nbformat": 4,
 "nbformat_minor": 2
}
